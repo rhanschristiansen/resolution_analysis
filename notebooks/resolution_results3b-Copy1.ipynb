{
 "cells": [
  {
   "cell_type": "markdown",
   "metadata": {},
   "source": [
    "## Resolution Results\n",
    "\n",
    "This Jupyter Notebook file (resolution_results3b.ipynb) provides analysis and results form our Resolution Optimization Experiment. We use the Santa Clara Road Scene Dataset for the evaluation  of our Monocular Camera, Single LIDAR Reflection (MCSLR) Association Algorithm. We also have included the ability to evaluate the accuracy as a function of distance and number of Lidar segments in the analysis. "
   ]
  },
  {
   "cell_type": "code",
   "execution_count": 1,
   "metadata": {
    "code_folding": [
     0
    ]
   },
   "outputs": [],
   "source": [
    "# import libraries\n",
    "import pandas as pd\n",
    "import numpy as np\n",
    "import cv2\n",
    "import os\n",
    "from matplotlib import pyplot as plt\n"
   ]
  },
  {
   "cell_type": "markdown",
   "metadata": {},
   "source": [
    "## Collecting data from Resolution Analysis files\n",
    "\n",
    "There are a total of 1000 runs of the same label video/lidar sequence from 2018-09-18 0002 data set. \n",
    "\n",
    "Each of the 1000 runs was an experiment of the association algoritm performed with a different Monte Carlo sample of the Hyperparameters: \n",
    "\n",
    "- L2_norm cost weight (w1)\n",
    "- y2_distance cost weight (w2)\n",
    "- Inverse IOU cost weight (w3)\n",
    "- Segment Intersection cost weight (w4)\n",
    "- Max Cost Threshold\n",
    "\n",
    "The foundation for our Association method is a 4 component cost function. \n",
    "\n",
    "The overall cost equation is:\n",
    "\n",
    "\\begin{equation*}\n",
    "c_{i,j}   = (w^1 . c^{1}_{i,j}) + (w^2 . c^{2}_{i,j}) + (w^3 . c^{3}_{i,j}) + (w^4 . c^{4}_{i,j})  \n",
    "\\end{equation*}\n",
    "\n",
    "Where i is the index of the detected objects from the CNN detector and j is the index of the lidar detection.\n",
    "\n",
    "\n",
    "An association is made between the CNN objects and the lidar detections using the a variant of the Hungarian Algorithm that allows for non-square matrices with an additional hyperparameter Max-cost that eliminates any association with a total cost greater that this threshold."
   ]
  },
  {
   "cell_type": "markdown",
   "metadata": {},
   "source": [
    "## Read in the summary data for all of the runs"
   ]
  },
  {
   "cell_type": "code",
   "execution_count": 2,
   "metadata": {},
   "outputs": [
    {
     "ename": "AssertionError",
     "evalue": "",
     "output_type": "error",
     "traceback": [
      "\u001b[0;31m---------------------------------------------------------------------------\u001b[0m",
      "\u001b[0;31mAssertionError\u001b[0m                            Traceback (most recent call last)",
      "\u001b[0;32m<ipython-input-2-46828b73c5aa>\u001b[0m in \u001b[0;36m<module>\u001b[0;34m\u001b[0m\n\u001b[1;32m      3\u001b[0m \u001b[0mkeys_filepath\u001b[0m \u001b[0;34m=\u001b[0m \u001b[0mos\u001b[0m\u001b[0;34m.\u001b[0m\u001b[0mpath\u001b[0m\u001b[0;34m.\u001b[0m\u001b[0mjoin\u001b[0m\u001b[0;34m(\u001b[0m\u001b[0mdata_dir\u001b[0m\u001b[0;34m,\u001b[0m \u001b[0mkeys_filename\u001b[0m\u001b[0;34m)\u001b[0m\u001b[0;34m\u001b[0m\u001b[0;34m\u001b[0m\u001b[0m\n\u001b[1;32m      4\u001b[0m \u001b[0;34m\u001b[0m\u001b[0m\n\u001b[0;32m----> 5\u001b[0;31m \u001b[0;32massert\u001b[0m\u001b[0;34m(\u001b[0m\u001b[0mos\u001b[0m\u001b[0;34m.\u001b[0m\u001b[0mpath\u001b[0m\u001b[0;34m.\u001b[0m\u001b[0mexists\u001b[0m\u001b[0;34m(\u001b[0m\u001b[0mkeys_filepath\u001b[0m\u001b[0;34m)\u001b[0m\u001b[0;34m)\u001b[0m\u001b[0;34m\u001b[0m\u001b[0;34m\u001b[0m\u001b[0m\n\u001b[0m",
      "\u001b[0;31mAssertionError\u001b[0m: "
     ]
    }
   ],
   "source": [
    "data_dir = '../data/2018-09-18/viewer_logs/accuracy_runs/'\n",
    "keys_filename = 'keys.csv'\n",
    "keys_filepath = os.path.join(data_dir, keys_filename)\n",
    "\n",
    "assert(os.path.exists(keys_filepath))"
   ]
  },
  {
   "cell_type": "markdown",
   "metadata": {},
   "source": [
    "Each of the runs is saved in a file with a UUID based filename (hash_name) and stored in the data_dir directory listed above. The summary data for each run is saved in the same directory in a file named keys.csv"
   ]
  },
  {
   "cell_type": "code",
   "execution_count": null,
   "metadata": {},
   "outputs": [],
   "source": [
    "keys_df = pd.read_csv(keys_filepath)"
   ]
  },
  {
   "cell_type": "code",
   "execution_count": null,
   "metadata": {
    "scrolled": true
   },
   "outputs": [],
   "source": [
    "keys_df.head()"
   ]
  },
  {
   "cell_type": "markdown",
   "metadata": {},
   "source": [
    "## Exploratory Data Analysis"
   ]
  },
  {
   "cell_type": "markdown",
   "metadata": {},
   "source": [
    "Let's look at the accuracy as a function of the number of segments across all of the runs"
   ]
  },
  {
   "cell_type": "code",
   "execution_count": null,
   "metadata": {},
   "outputs": [],
   "source": [
    "k = keys_df.groupby('n_segs')"
   ]
  },
  {
   "cell_type": "code",
   "execution_count": null,
   "metadata": {},
   "outputs": [],
   "source": [
    "k.accy.plot(figsize=(12,6), legend=True)"
   ]
  },
  {
   "cell_type": "markdown",
   "metadata": {},
   "source": [
    "## Analyzing accuracy as a function of distance and resolution\n",
    "\n",
    "Each point in the curve displayed above contains the summary accuracy for every frame of video/lidar across the complete labeled dataset. The only variation is the number of segments used for the lidar detection and the hyperparameters listed above used in the association process.\n",
    "\n",
    "To get a better understanding of the accuracy as a function of resolution, it is important to separate the object / lidar associations as a function of distance\n",
    "\n",
    "Below we are going to analyze the data to determine if there is a distance dependancy.\n",
    "\n",
    "Since some of the runs contain very poor association accuracy due to the particular hyperparameter settings, we will select the runs with the best performance in each resolution category for analysis.\n",
    "\n",
    "Enter some variables"
   ]
  },
  {
   "cell_type": "code",
   "execution_count": null,
   "metadata": {},
   "outputs": [],
   "source": [
    "num_best_runs = 1    # the number of representative weights to include for each resolution\n",
    "dist_tolerance = 5  # the tolerance of the distance for use in the binning procedure below\n",
    "\n",
    "use_best_from_segment = 0 # set to zero if each resolution uses its own best weights\n",
    "                          # or set to the segment number to use\n",
    "\n",
    "segs = [16,8,4,2,1] # a list of the number of segments \n",
    "\n",
    "min_dist = 20        # the minimum distance for the binning process\n",
    "max_dist = 120       # the maximum distance for the binning process\n",
    "step_dist = 10        # the distance to step by between the min and max \n",
    "\n",
    "# calculate the range of distances\n",
    "distances = list(range(min_dist,max_dist+1,step_dist))\n",
    "\n",
    "# a list of columns for display purposes\n",
    "cols = ['hash_name','n_segs','accy','l2_norm_weight','y2_est_weight','iou_weight','seg_intersect_weight','max_cost']\n"
   ]
  },
  {
   "cell_type": "markdown",
   "metadata": {},
   "source": [
    "## Selecting the best runs for each number of segments\n",
    "\n",
    "The routine below selects the 'number_of_best_runs' weights that gave the best accuracy for each number of segments "
   ]
  },
  {
   "cell_type": "code",
   "execution_count": null,
   "metadata": {},
   "outputs": [],
   "source": [
    "max1 = keys_df.loc[keys_df.n_segs == 1].sort_values(['accy', 'max_cost'], ascending=[False, True]).head(num_best_runs)\n",
    "max2 = keys_df.loc[keys_df.n_segs == 2].sort_values(['accy', 'max_cost'], ascending=[False, True]).head(num_best_runs)\n",
    "max4 = keys_df.loc[keys_df.n_segs == 4].sort_values(['accy', 'max_cost'], ascending=[False, True]).head(num_best_runs)\n",
    "max8 = keys_df.loc[keys_df.n_segs == 8].sort_values(['accy', 'max_cost'], ascending=[False, True]).head(num_best_runs)\n",
    "max16 = keys_df.loc[keys_df.n_segs == 16].sort_values(['accy', 'max_cost'], ascending=[False, True]).head(num_best_runs)\n",
    "\n"
   ]
  },
  {
   "cell_type": "markdown",
   "metadata": {},
   "source": [
    "The routine below overwrites the best accuracy values that were calculated with new ones with the best weights from a specific segment number if the variable 'use_best_from_segment' variable is set to 1, 2, 4, 8 or 16. If it is set to zero, the process is skipped."
   ]
  },
  {
   "cell_type": "markdown",
   "metadata": {},
   "source": [
    "These are the weights that are used for the binning process below for each resolution"
   ]
  },
  {
   "cell_type": "code",
   "execution_count": null,
   "metadata": {},
   "outputs": [],
   "source": [
    "segs_dfs = [max16, max8, max4, max2, max1]\n",
    "\n",
    "if use_best_from_segment != 0:\n",
    "    if use_best_from_segment == 16:\n",
    "        maxseg = max16\n",
    "    elif use_best_from_segment == 8:\n",
    "        maxseg = max8\n",
    "    elif use_best_from_segment == 4:\n",
    "        maxseg = max4\n",
    "    elif use_best_from_segment == 2:\n",
    "        maxseg = max2\n",
    "    else: \n",
    "        maxseg = max1\n",
    "    \n",
    "    for row in range(len(maxseg)):\n",
    "    \n",
    "        l2_norm_weight = maxseg.iloc[row,:].l2_norm_weight\n",
    "        y2_est_weight = maxseg.iloc[row,:].y2_est_weight\n",
    "        iou_weight = maxseg.iloc[row,:].iou_weight\n",
    "        seg_intersect_weight = maxseg.iloc[row,:].seg_intersect_weight\n",
    "        max_cost = maxseg.iloc[row,:].max_cost\n",
    "        \n",
    "        for i, seg in enumerate(segs):\n",
    "            result = keys_df.loc[(keys_df.n_segs == seg) & (keys_df.l2_norm_weight == l2_norm_weight) & (keys_df.y2_est_weight == y2_est_weight) & (keys_df.iou_weight == iou_weight) & (keys_df.seg_intersect_weight == seg_intersect_weight) & (keys_df.max_cost == max_cost)]\n",
    "            if row == 0:\n",
    "                segs_dfs[i] = result\n",
    "            else:\n",
    "                segs_dfs[i] = pd.concat([segs_dfs[i], result])"
   ]
  },
  {
   "cell_type": "code",
   "execution_count": null,
   "metadata": {},
   "outputs": [],
   "source": [
    "segs_dfs[0][cols]\n"
   ]
  },
  {
   "cell_type": "code",
   "execution_count": null,
   "metadata": {},
   "outputs": [],
   "source": [
    "segs_dfs[1][cols]\n"
   ]
  },
  {
   "cell_type": "code",
   "execution_count": null,
   "metadata": {},
   "outputs": [],
   "source": [
    "segs_dfs[2][cols]\n"
   ]
  },
  {
   "cell_type": "code",
   "execution_count": null,
   "metadata": {},
   "outputs": [],
   "source": [
    "segs_dfs[3][cols]\n"
   ]
  },
  {
   "cell_type": "code",
   "execution_count": null,
   "metadata": {},
   "outputs": [],
   "source": [
    "segs_dfs[4][cols]\n"
   ]
  },
  {
   "cell_type": "markdown",
   "metadata": {},
   "source": [
    "##  Binning the distance results\n",
    "\n",
    "The procedure below sweeps the accuracy results for bins of distances spanning from from min_dist to max_dist in increments of step_dist. The purpose of this binning is to calculate the accuracy of the association process as a function of distance. The dist_tolerance variable determines how wide the bin is. By making a dist_tolerance greater than half of the step_dist, the bins will have some overlap which helps to interject some smoothing as the procedure sweeps across the distance bins."
   ]
  },
  {
   "cell_type": "code",
   "execution_count": null,
   "metadata": {},
   "outputs": [],
   "source": [
    "print('min_dist: {}, max_dist: {}, step_dist: {}'.format(min_dist, max_dist, step_dist))\n",
    "print('dist_tolerance: {}'.format(dist_tolerance))\n",
    "print('number_of_best_runs: {}'.format(num_best_runs))\n",
    "print('use_best_weights_from_segment: {} Note: if this is zero, each resolution uses its own best weights'.format(use_best_from_segment))"
   ]
  },
  {
   "cell_type": "code",
   "execution_count": null,
   "metadata": {
    "code_folding": []
   },
   "outputs": [],
   "source": [
    "# the binning procedure\n",
    "\n",
    "accys_by_bin = np.zeros((len(distances), len(segs)), np.float)\n",
    "sample_count = np.zeros((len(distances), len(segs)), np.float)\n",
    "\n",
    "for j, df in enumerate(segs_dfs):\n",
    "    composite_df = None\n",
    "    hash_names = list(df.hash_name)\n",
    "    for hash_name in hash_names:\n",
    "        detail_filename = hash_name + '.csv'\n",
    "        detail_filepath = os.path.join(data_dir, detail_filename)\n",
    "        new_df = pd.read_csv(detail_filepath, skiprows=2)\n",
    "        if composite_df is None:\n",
    "            composite_df = new_df.copy()\n",
    "        else:\n",
    "            composite_df = pd.concat([composite_df, new_df])\n",
    "\n",
    "    for i, dist in enumerate(distances):\n",
    "        dist_df = composite_df.loc[(composite_df['gt_dist'] >= dist-dist_tolerance) & (composite_df['gt_dist'] <= dist+dist_tolerance)].copy()\n",
    "        tp = dist_df.loc[dist_df.result == 'tp'].result.count()\n",
    "        fp = dist_df.loc[dist_df.result == 'fp'].result.count()\n",
    "        fn = dist_df.loc[dist_df.result == 'fn'].result.count()\n",
    "        accys_by_bin[i,j] = tp / (tp + fp + fn)\n",
    "        sample_count[i,j] = tp + fp + fn"
   ]
  },
  {
   "cell_type": "code",
   "execution_count": null,
   "metadata": {
    "code_folding": []
   },
   "outputs": [],
   "source": [
    "# normalize compared to 16 segments accuracy\n",
    "normalized_accys_by_bin = accys_by_bin.copy()\n",
    "for col in range(accys_by_bin.shape[1]):\n",
    "    normalized_accys_by_bin[:,col] = accys_by_bin[:,col] / accys_by_bin[:,0]"
   ]
  },
  {
   "cell_type": "code",
   "execution_count": null,
   "metadata": {
    "code_folding": []
   },
   "outputs": [],
   "source": [
    "# normalize by highest reading for the resolution\n",
    "normalized2_accys_by_bin = accys_by_bin.copy()\n",
    "for col in range(accys_by_bin.shape[1]):\n",
    "    normalized2_accys_by_bin[:,col] = accys_by_bin[:,col] / accys_by_bin[:,col].max()"
   ]
  },
  {
   "cell_type": "code",
   "execution_count": null,
   "metadata": {},
   "outputs": [],
   "source": [
    "labels = ['16', '8', '4', '2', '1']"
   ]
  },
  {
   "cell_type": "code",
   "execution_count": null,
   "metadata": {},
   "outputs": [],
   "source": [
    "fig3 = plt.figure(figsize = (10,10))\n",
    "\n",
    "ax3 = plt.axes()\n",
    "plt.title('Plot of accuracy as a function of distance', fontsize=20)\n",
    "plt.grid(True)\n",
    "plt.xlabel('Center of distance bin (feet)', fontsize=12)\n",
    "plt.ylabel('Accuracy', fontsize=12)\n",
    "plt.text(20,.55, 'Bin width: {} feet'.format(2*dist_tolerance), fontsize=12)\n",
    "if use_best_from_segment == 0:\n",
    "    plt.text(20,.57, 'Each resolution uses its own best weights', fontsize=12)\n",
    "elif use_best_from_segment == 1:\n",
    "    plt.text(20,.57, 'Use segment weights from resolution with {} segment'.format(use_best_from_segment), fontsize=12)\n",
    "else:\n",
    "    plt.text(20,.57, 'Use segment weights from resolution with {} segments'.format(use_best_from_segment), fontsize=12)\n",
    "plt.text(20,.59, 'Top {} runs were included in distance analysis'.format(num_best_runs), fontsize=12)\n",
    "lines = ax3.plot(distances,accys_by_bin, marker='x')\n",
    "\n",
    "ax3.legend(lines, labels)\n",
    "\n"
   ]
  },
  {
   "cell_type": "code",
   "execution_count": null,
   "metadata": {},
   "outputs": [],
   "source": [
    "ax4 = plt.axes()\n",
    "lines = ax4.plot(distances,normalized_accys_by_bin)\n",
    "ax4.legend(lines, labels)"
   ]
  },
  {
   "cell_type": "code",
   "execution_count": null,
   "metadata": {},
   "outputs": [],
   "source": [
    "ax5 = plt.axes()\n",
    "lines = ax5.plot(distances,normalized2_accys_by_bin)\n",
    "ax5.legend(lines, labels)"
   ]
  },
  {
   "cell_type": "markdown",
   "metadata": {},
   "source": [
    "## Defining a function to perform analysis"
   ]
  },
  {
   "cell_type": "code",
   "execution_count": null,
   "metadata": {
    "code_folding": []
   },
   "outputs": [],
   "source": [
    "def analyze_distance_bins(num_best_runs, use_best_from_segment, dist_tolerance, min_dist, max_dist, step_dist, normalize=False):\n",
    "    segs = [16,8,4,2,1] # a list of the number of segments \n",
    "#    segs = [16,8,4,2] # a list of the number of segments \n",
    "    labels = ['16', '8', '4', '2', '1']\n",
    "#    labels = ['16', '8', '4', '2']\n",
    "\n",
    "    text_offset_x = 15\n",
    "    text_offset_y = 0.03\n",
    "\n",
    "    # calculate the range of distances\n",
    "    distances = list(range(min_dist,max_dist+1,step_dist))\n",
    "\n",
    "    # a list of columns for display purposes\n",
    "    cols = ['hash_name','n_segs','accy','l2_norm_weight','y2_est_weight','iou_weight','seg_intersect_weight','max_cost']\n",
    "\n",
    "    max1 = keys_df.loc[keys_df.n_segs == 1].sort_values(['accy', 'max_cost'], ascending=[False, True]).head(num_best_runs)\n",
    "    max2 = keys_df.loc[keys_df.n_segs == 2].sort_values(['accy', 'max_cost'], ascending=[False, True]).head(num_best_runs)\n",
    "    max4 = keys_df.loc[keys_df.n_segs == 4].sort_values(['accy', 'max_cost'], ascending=[False, True]).head(num_best_runs)\n",
    "    max8 = keys_df.loc[keys_df.n_segs == 8].sort_values(['accy', 'max_cost'], ascending=[False, True]).head(num_best_runs)\n",
    "    max16 = keys_df.loc[keys_df.n_segs == 16].sort_values(['accy', 'max_cost'], ascending=[False, True]).head(num_best_runs)\n",
    "\n",
    "    segs_dfs = [max16, max8, max4, max2, max1]\n",
    "#    segs_dfs = [max16, max8, max4, max2]\n",
    "\n",
    "    if use_best_from_segment != 0:\n",
    "        if use_best_from_segment == 16:\n",
    "            maxseg = max16\n",
    "        elif use_best_from_segment == 8:\n",
    "            maxseg = max8\n",
    "        elif use_best_from_segment == 4:\n",
    "            maxseg = max4\n",
    "        elif use_best_from_segment == 2:\n",
    "            maxseg = max2\n",
    "        else: \n",
    "            maxseg = max1\n",
    "\n",
    "        for row in range(len(maxseg)):\n",
    "\n",
    "            l2_norm_weight = maxseg.iloc[row,:].l2_norm_weight\n",
    "            y2_est_weight = maxseg.iloc[row,:].y2_est_weight\n",
    "            iou_weight = maxseg.iloc[row,:].iou_weight\n",
    "            seg_intersect_weight = maxseg.iloc[row,:].seg_intersect_weight\n",
    "            max_cost = maxseg.iloc[row,:].max_cost\n",
    "\n",
    "            for i, seg in enumerate(segs):\n",
    "                result = keys_df.loc[(keys_df.n_segs == seg) & (keys_df.l2_norm_weight == l2_norm_weight) & (keys_df.y2_est_weight == y2_est_weight) & (keys_df.iou_weight == iou_weight) & (keys_df.seg_intersect_weight == seg_intersect_weight) & (keys_df.max_cost == max_cost)]\n",
    "                if row == 0:\n",
    "                    segs_dfs[i] = result\n",
    "                else:\n",
    "                    segs_dfs[i] = pd.concat([segs_dfs[i], result])\n",
    "                    \n",
    "#    print('min_dist: {}, max_dist: {}, step_dist: {}'.format(min_dist, max_dist, step_dist))\n",
    "#    print('dist_tolerance: {}'.format(dist_tolerance))\n",
    "#    print('number_of_best_runs: {}'.format(num_best_runs))\n",
    "#    print('use_best_weights_from_segment: {} Note: if this is zero, each resolution uses its own best weights'.format(use_best_from_segment))\n",
    "    \n",
    "    # the binning procedure\n",
    "\n",
    "    accys_by_bin = np.zeros((len(distances), len(segs)), np.float)\n",
    "    sample_count = np.zeros((len(distances), len(segs)), np.float)\n",
    "\n",
    "    for j, df in enumerate(segs_dfs):\n",
    "        composite_df = None\n",
    "        hash_names = list(df.hash_name)\n",
    "        for hash_name in hash_names:\n",
    "            detail_filename = hash_name + '.csv'\n",
    "            detail_filepath = os.path.join(data_dir, detail_filename)\n",
    "            new_df = pd.read_csv(detail_filepath, skiprows=2)\n",
    "            if composite_df is None:\n",
    "                composite_df = new_df.copy()\n",
    "            else:\n",
    "                composite_df = pd.concat([composite_df, new_df])\n",
    "\n",
    "        for i, dist in enumerate(distances):\n",
    "            dist_df = composite_df.loc[(composite_df['gt_dist'] >= dist-dist_tolerance) & (composite_df['gt_dist'] <= dist+dist_tolerance)].copy()\n",
    "            tp = dist_df.loc[dist_df.result == 'tp'].result.count()\n",
    "            fp = dist_df.loc[dist_df.result == 'fp'].result.count()\n",
    "            fn = dist_df.loc[dist_df.result == 'fn'].result.count()\n",
    "            accys_by_bin[i,j] = tp / (tp + fp + fn)\n",
    "            sample_count[i,j] = tp + fp + fn\n",
    "    if normalize:\n",
    "        # normalize compared to 16 segments accuracy\n",
    "        normalized_accys_by_bin = accys_by_bin.copy()\n",
    "        for col in range(accys_by_bin.shape[1]):\n",
    "            normalized_accys_by_bin[:,col] = accys_by_bin[:,col] / accys_by_bin[:,0]\n",
    "\n",
    "        # normalize by highest reading for the resolution\n",
    "        normalized2_accys_by_bin = accys_by_bin.copy()\n",
    "        for col in range(accys_by_bin.shape[1]):\n",
    "            normalized2_accys_by_bin[:,col] = accys_by_bin[:,col] / accys_by_bin[:,col].max()    \n",
    "        \n",
    "    \n",
    "    fig3 = plt.figure(figsize = (10,10))\n",
    "\n",
    "    ax3 = plt.axes()\n",
    "    lines = ax3.plot(distances,accys_by_bin, marker='x')\n",
    "    plt.title('Plot of accuracy as a function of distance', fontsize=20)\n",
    "    plt.grid(True)\n",
    "    plt.xlabel('Center of distance bin (feet)', fontsize=12)\n",
    "    plt.ylabel('Accuracy', fontsize=12)\n",
    "    axes = plt.gca()\n",
    "    ymin, ymax = axes.get_ylim()\n",
    "    xmin, xmax = axes.get_xlim()\n",
    "    plt.text(xmin+text_offset_x,ymin+text_offset_y+.04, 'Bin width: {} feet'.format(2*dist_tolerance), fontsize=12)\n",
    "    if use_best_from_segment == 0:\n",
    "        plt.text(xmin+text_offset_x,ymin+text_offset_y+.02, 'Each resolution uses its own best weights', fontsize=12)\n",
    "    elif use_best_from_segment == 1:\n",
    "        plt.text(xmin+text_offset_x,ymin+text_offset_y+.02, 'Use segment weights from resolution with {} segment'.format(use_best_from_segment), fontsize=12)\n",
    "    else:\n",
    "        plt.text(xmin+text_offset_x,ymin+text_offset_y+.02, 'Use segment weights from resolution with {} segments'.format(use_best_from_segment), fontsize=12)\n",
    "    if num_best_runs == 1:\n",
    "        plt.text(xmin+text_offset_x,ymin+text_offset_y, 'The highest accuracy run was included in distance analysis'.format(num_best_runs), fontsize=12)\n",
    "    else:\n",
    "        plt.text(xmin+text_offset_x,ymin+text_offset_y, 'The {} highest accuracy runs were included in distance analysis'.format(num_best_runs), fontsize=12)\n",
    "\n",
    "    ax3.legend(lines, labels)    \n",
    "\n",
    "    if normalize:\n",
    "        fig4 = plt.figure(figsize = (10,10))\n",
    "\n",
    "        ax4 = plt.axes()\n",
    "        lines = ax4.plot(distances,normalized_accys_by_bin)\n",
    "        plt.title('Plot of accuracy as a function of distance \\n normalized across distance by 16 segment accuracy', fontsize=15)\n",
    "        plt.grid(True)\n",
    "        plt.xlabel('Center of distance bin (feet)', fontsize=12)\n",
    "        plt.ylabel('Accuracy', fontsize=12)\n",
    "\n",
    "        axes = plt.gca()\n",
    "        ymin, ymax = axes.get_ylim()\n",
    "        xmin, xmax = axes.get_xlim()\n",
    "        plt.text(xmin+text_offset_x,ymin+text_offset_y+.04, 'Bin width: {} feet'.format(2*dist_tolerance), fontsize=12)\n",
    "        if use_best_from_segment == 0:\n",
    "            plt.text(xmin+text_offset_x,ymin+text_offset_y+.02, 'Each resolution uses its own best weights', fontsize=12)\n",
    "        elif use_best_from_segment == 1:\n",
    "            plt.text(xmin+text_offset_x,ymin+text_offset_y+.02, 'Use segment weights from resolution with {} segment'.format(use_best_from_segment), fontsize=12)\n",
    "        else:\n",
    "            plt.text(xmin+text_offset_x,ymin+text_offset_y+.02, 'Use segment weights from resolution with {} segments'.format(use_best_from_segment), fontsize=12)\n",
    "        if num_best_runs == 1:\n",
    "            plt.text(xmin+text_offset_x,ymin+text_offset_y, 'The highest accuracy run was included in distance analysis'.format(num_best_runs), fontsize=12)\n",
    "        else:\n",
    "            plt.text(xmin+text_offset_x,ymin+text_offset_y, 'The {} highest accuracy runs were included in distance analysis'.format(num_best_runs), fontsize=12)\n",
    "\n",
    "        ax4.legend(lines, labels)\n",
    "\n",
    "        fig5 = plt.figure(figsize = (10,10))\n",
    "\n",
    "        ax5 = plt.axes()\n",
    "        lines = ax5.plot(distances,normalized2_accys_by_bin)\n",
    "        plt.title('Plot of accuracy as a function of distance \\n normalized across distance by best accuracy of resolution', fontsize=20)\n",
    "        plt.grid(True)\n",
    "        plt.xlabel('Center of distance bin (feet)', fontsize=12)\n",
    "        plt.ylabel('Accuracy', fontsize=12)\n",
    "        axes = plt.gca()\n",
    "        ymin, ymax = axes.get_ylim()\n",
    "        xmin, xmax = axes.get_xlim()\n",
    "        plt.text(xmin+text_offset_x,ymin+text_offset_y+.04, 'Bin width: {} feet'.format(2*dist_tolerance), fontsize=12)\n",
    "        if use_best_from_segment == 0:\n",
    "            plt.text(xmin+text_offset_x,ymin+text_offset_y+.02, 'Each resolution uses its own best weights', fontsize=12)\n",
    "        elif use_best_from_segment == 1:\n",
    "            plt.text(xmin+text_offset_x,ymin+text_offset_y+.02, 'Use segment weights from resolution with {} segment'.format(use_best_from_segment), fontsize=12)\n",
    "        else:\n",
    "            plt.text(xmin+text_offset_x,ymin+text_offset_y+.02, 'Use segment weights from resolution with {} segments'.format(use_best_from_segment), fontsize=12)\n",
    "        if num_best_runs == 1:\n",
    "            plt.text(xmin+text_offset_x,ymin+text_offset_y, 'The highest accuracy run was included in distance analysis'.format(num_best_runs), fontsize=12)\n",
    "        else:\n",
    "            plt.text(xmin+text_offset_x,ymin+text_offset_y, 'The {} highest accuracy runs were included in distance analysis'.format(num_best_runs), fontsize=12)\n",
    "        ax5.legend(lines, labels)\n",
    "    \n",
    "    plt.show()"
   ]
  },
  {
   "cell_type": "code",
   "execution_count": null,
   "metadata": {
    "scrolled": false
   },
   "outputs": [],
   "source": [
    "num_best_runs = 1          # the number of representative weights to include for each resolution\n",
    "dist_tolerance = 5        # the tolerance of the distance for use in the binning procedure below\n",
    "\n",
    "use_best_from_segment = 1  # set to zero if each resolution uses its own best weights\n",
    "                           # or set to the segment number to use\n",
    "\n",
    "min_dist = 20              # the minimum distance for the binning process\n",
    "max_dist = 120             # the maximum distance for the binning process\n",
    "step_dist = 10             # the distance to step by between the min and max \n",
    "\n",
    "analyze_distance_bins(num_best_runs, use_best_from_segment, dist_tolerance, min_dist, max_dist, step_dist)"
   ]
  },
  {
   "cell_type": "code",
   "execution_count": null,
   "metadata": {
    "scrolled": false
   },
   "outputs": [],
   "source": [
    "num_best_runs = 1          # the number of representative weights to include for each resolution\n",
    "dist_tolerance = 10        # the tolerance of the distance for use in the binning procedure below\n",
    "\n",
    "use_best_from_segment = 0  # set to zero if each resolution uses its own best weights\n",
    "                           # or set to the segment number to use\n",
    "\n",
    "min_dist = 20              # the minimum distance for the binning process\n",
    "max_dist = 120             # the maximum distance for the binning process\n",
    "step_dist = 10             # the distance to step by between the min and max \n",
    "\n",
    "analyze_distance_bins(num_best_runs, use_best_from_segment, dist_tolerance, min_dist, max_dist, step_dist)"
   ]
  },
  {
   "cell_type": "code",
   "execution_count": null,
   "metadata": {
    "scrolled": false
   },
   "outputs": [],
   "source": [
    "num_best_runs = 1          # the number of representative weights to include for each resolution\n",
    "dist_tolerance = 15        # the tolerance of the distance for use in the binning procedure below\n",
    "\n",
    "use_best_from_segment = 0  # set to zero if each resolution uses its own best weights\n",
    "                           # or set to the segment number to use\n",
    "\n",
    "min_dist = 20              # the minimum distance for the binning process\n",
    "max_dist = 120             # the maximum distance for the binning process\n",
    "step_dist = 10             # the distance to step by between the min and max \n",
    "\n",
    "analyze_distance_bins(num_best_runs, use_best_from_segment, dist_tolerance, min_dist, max_dist, step_dist)"
   ]
  },
  {
   "cell_type": "code",
   "execution_count": null,
   "metadata": {
    "scrolled": false
   },
   "outputs": [],
   "source": [
    "num_best_runs = 1          # the number of representative weights to include for each resolution\n",
    "dist_tolerance = 10        # the tolerance of the distance for use in the binning procedure below\n",
    "\n",
    "use_best_from_segment = 1  # set to zero if each resolution uses its own best weights\n",
    "                           # or set to the segment number to use\n",
    "\n",
    "min_dist = 25              # the minimum distance for the binning process\n",
    "max_dist = 125             # the maximum distance for the binning process\n",
    "step_dist = 10             # the distance to step by between the min and max \n",
    "\n",
    "analyze_distance_bins(num_best_runs, use_best_from_segment, dist_tolerance, min_dist, max_dist, step_dist)"
   ]
  },
  {
   "cell_type": "code",
   "execution_count": null,
   "metadata": {},
   "outputs": [],
   "source": []
  }
 ],
 "metadata": {
  "kernelspec": {
   "display_name": "Python 3",
   "language": "python",
   "name": "python3"
  },
  "language_info": {
   "codemirror_mode": {
    "name": "ipython",
    "version": 3
   },
   "file_extension": ".py",
   "mimetype": "text/x-python",
   "name": "python",
   "nbconvert_exporter": "python",
   "pygments_lexer": "ipython3",
   "version": "3.6.9"
  }
 },
 "nbformat": 4,
 "nbformat_minor": 2
}
