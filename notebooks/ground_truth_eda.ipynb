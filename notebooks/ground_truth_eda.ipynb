{
 "cells": [
  {
   "cell_type": "code",
   "execution_count": 1,
   "metadata": {},
   "outputs": [
    {
     "name": "stdout",
     "output_type": "stream",
     "text": [
      " ground_truth_eda.ipynb\t\t    resolution_results3b-Copy1.ipynb\r\n",
      " pykitti_Jim_Bob.ipynb\t\t    resolution_results3b-Copy2.ipynb\r\n",
      " README.md\t\t\t    resolution_results3b.ipynb\r\n",
      " resolution_analysis3-Copy1.ipynb  'Screenshot from 2020-06-30 17-40-15.png'\r\n",
      " resolution_analysis3.ipynb\t    venv\r\n"
     ]
    }
   ],
   "source": [
    "!ls"
   ]
  },
  {
   "cell_type": "code",
   "execution_count": 2,
   "metadata": {},
   "outputs": [],
   "source": [
    "import os\n",
    "\n",
    "import pandas as pd"
   ]
  },
  {
   "cell_type": "code",
   "execution_count": 3,
   "metadata": {},
   "outputs": [
    {
     "data": {
      "text/html": [
       "<div>\n",
       "<style scoped>\n",
       "    .dataframe tbody tr th:only-of-type {\n",
       "        vertical-align: middle;\n",
       "    }\n",
       "\n",
       "    .dataframe tbody tr th {\n",
       "        vertical-align: top;\n",
       "    }\n",
       "\n",
       "    .dataframe thead th {\n",
       "        text-align: right;\n",
       "    }\n",
       "</style>\n",
       "<table border=\"1\" class=\"dataframe\">\n",
       "  <thead>\n",
       "    <tr style=\"text-align: right;\">\n",
       "      <th></th>\n",
       "      <th>det_frame</th>\n",
       "      <th>lidar_frame</th>\n",
       "      <th>association_index</th>\n",
       "      <th>is_valid</th>\n",
       "      <th>is_manual</th>\n",
       "      <th>video_detection_index</th>\n",
       "      <th>lidar_detection_index</th>\n",
       "      <th>detection_class</th>\n",
       "      <th>detection_confidence</th>\n",
       "      <th>lidar_segment</th>\n",
       "      <th>lidar_distance</th>\n",
       "      <th>x1</th>\n",
       "      <th>y1</th>\n",
       "      <th>x2</th>\n",
       "      <th>y2</th>\n",
       "    </tr>\n",
       "  </thead>\n",
       "  <tbody>\n",
       "    <tr>\n",
       "      <th>8</th>\n",
       "      <td>2540</td>\n",
       "      <td>2538</td>\n",
       "      <td>0</td>\n",
       "      <td>True</td>\n",
       "      <td>False</td>\n",
       "      <td>0</td>\n",
       "      <td>2</td>\n",
       "      <td>car</td>\n",
       "      <td>0.999839</td>\n",
       "      <td>15</td>\n",
       "      <td>35.527548</td>\n",
       "      <td>865</td>\n",
       "      <td>389</td>\n",
       "      <td>1127</td>\n",
       "      <td>516</td>\n",
       "    </tr>\n",
       "    <tr>\n",
       "      <th>9</th>\n",
       "      <td>2541</td>\n",
       "      <td>2539</td>\n",
       "      <td>0</td>\n",
       "      <td>True</td>\n",
       "      <td>False</td>\n",
       "      <td>0</td>\n",
       "      <td>0</td>\n",
       "      <td>car</td>\n",
       "      <td>0.999762</td>\n",
       "      <td>14</td>\n",
       "      <td>37.354999</td>\n",
       "      <td>853</td>\n",
       "      <td>391</td>\n",
       "      <td>1131</td>\n",
       "      <td>517</td>\n",
       "    </tr>\n",
       "    <tr>\n",
       "      <th>13</th>\n",
       "      <td>2545</td>\n",
       "      <td>2543</td>\n",
       "      <td>0</td>\n",
       "      <td>True</td>\n",
       "      <td>False</td>\n",
       "      <td>0</td>\n",
       "      <td>2</td>\n",
       "      <td>car</td>\n",
       "      <td>0.999446</td>\n",
       "      <td>14</td>\n",
       "      <td>42.055086</td>\n",
       "      <td>825</td>\n",
       "      <td>381</td>\n",
       "      <td>1057</td>\n",
       "      <td>498</td>\n",
       "    </tr>\n",
       "    <tr>\n",
       "      <th>14</th>\n",
       "      <td>2546</td>\n",
       "      <td>2544</td>\n",
       "      <td>0</td>\n",
       "      <td>True</td>\n",
       "      <td>False</td>\n",
       "      <td>0</td>\n",
       "      <td>2</td>\n",
       "      <td>car</td>\n",
       "      <td>0.999818</td>\n",
       "      <td>13</td>\n",
       "      <td>41.827156</td>\n",
       "      <td>827</td>\n",
       "      <td>379</td>\n",
       "      <td>1034</td>\n",
       "      <td>494</td>\n",
       "    </tr>\n",
       "    <tr>\n",
       "      <th>15</th>\n",
       "      <td>2547</td>\n",
       "      <td>2545</td>\n",
       "      <td>0</td>\n",
       "      <td>True</td>\n",
       "      <td>False</td>\n",
       "      <td>0</td>\n",
       "      <td>2</td>\n",
       "      <td>car</td>\n",
       "      <td>0.999810</td>\n",
       "      <td>13</td>\n",
       "      <td>43.166655</td>\n",
       "      <td>830</td>\n",
       "      <td>379</td>\n",
       "      <td>1025</td>\n",
       "      <td>488</td>\n",
       "    </tr>\n",
       "  </tbody>\n",
       "</table>\n",
       "</div>"
      ],
      "text/plain": [
       "    det_frame  lidar_frame  association_index  is_valid  is_manual  \\\n",
       "8        2540         2538                  0      True      False   \n",
       "9        2541         2539                  0      True      False   \n",
       "13       2545         2543                  0      True      False   \n",
       "14       2546         2544                  0      True      False   \n",
       "15       2547         2545                  0      True      False   \n",
       "\n",
       "    video_detection_index  lidar_detection_index detection_class  \\\n",
       "8                       0                      2             car   \n",
       "9                       0                      0             car   \n",
       "13                      0                      2             car   \n",
       "14                      0                      2             car   \n",
       "15                      0                      2             car   \n",
       "\n",
       "    detection_confidence  lidar_segment  lidar_distance   x1   y1    x2   y2  \n",
       "8               0.999839             15       35.527548  865  389  1127  516  \n",
       "9               0.999762             14       37.354999  853  391  1131  517  \n",
       "13              0.999446             14       42.055086  825  381  1057  498  \n",
       "14              0.999818             13       41.827156  827  379  1034  494  \n",
       "15              0.999810             13       43.166655  830  379  1025  488  "
      ]
     },
     "execution_count": 3,
     "metadata": {},
     "output_type": "execute_result"
    }
   ],
   "source": [
    "path = '/home/robert/PycharmProjects/data/2018-09-18/viewer_logs/gt_records/gt_record_2018-09-18_0002.csv'\n",
    "df = pd.read_csv(path)\n",
    "df = df.loc[df.is_valid]\n",
    "df.head()\n"
   ]
  },
  {
   "cell_type": "code",
   "execution_count": 4,
   "metadata": {},
   "outputs": [
    {
     "data": {
      "image/png": "[encoded data removed]",
      "text/plain": [
       "<Figure size 432x288 with 1 Axes>"
      ]
     },
     "metadata": {
      "needs_background": "light"
     },
     "output_type": "display_data"
    }
   ],
   "source": [
    "ax = df.lidar_distance.hist(bins=20)\n",
    "ax.set_title('Lidar distance readings included in ground truth associations.')\n",
    "ax.set_xlabel('Lidar Distance (ft)')\n",
    "_ = ax.set_ylabel('Number of lidar readings per distance bin.')"
   ]
  },
  {
   "cell_type": "code",
   "execution_count": 5,
   "metadata": {},
   "outputs": [
    {
     "data": {
      "text/plain": [
       "Index(['det_frame', 'lidar_frame', 'association_index', 'is_valid',\n",
       "       'is_manual', 'video_detection_index', 'lidar_detection_index',\n",
       "       'detection_class', 'detection_confidence', 'lidar_segment',\n",
       "       'lidar_distance', 'x1', 'y1', 'x2', 'y2'],\n",
       "      dtype='object')"
      ]
     },
     "execution_count": 5,
     "metadata": {},
     "output_type": "execute_result"
    }
   ],
   "source": [
    "df.columns"
   ]
  },
  {
   "cell_type": "code",
   "execution_count": 6,
   "metadata": {},
   "outputs": [
    {
     "data": {
      "text/html": [
       "<div>\n",
       "<style scoped>\n",
       "    .dataframe tbody tr th:only-of-type {\n",
       "        vertical-align: middle;\n",
       "    }\n",
       "\n",
       "    .dataframe tbody tr th {\n",
       "        vertical-align: top;\n",
       "    }\n",
       "\n",
       "    .dataframe thead th {\n",
       "        text-align: right;\n",
       "    }\n",
       "</style>\n",
       "<table border=\"1\" class=\"dataframe\">\n",
       "  <thead>\n",
       "    <tr style=\"text-align: right;\">\n",
       "      <th></th>\n",
       "      <th>det_frame</th>\n",
       "      <th>detection_confidence</th>\n",
       "      <th>lidar_segment</th>\n",
       "      <th>lidar_distance</th>\n",
       "      <th>x1</th>\n",
       "      <th>y1</th>\n",
       "      <th>x2</th>\n",
       "      <th>y2</th>\n",
       "    </tr>\n",
       "  </thead>\n",
       "  <tbody>\n",
       "    <tr>\n",
       "      <th>count</th>\n",
       "      <td>1139.000000</td>\n",
       "      <td>1139.000000</td>\n",
       "      <td>1139.000000</td>\n",
       "      <td>1139.000000</td>\n",
       "      <td>1139.000000</td>\n",
       "      <td>1139.000000</td>\n",
       "      <td>1139.000000</td>\n",
       "      <td>1139.000000</td>\n",
       "    </tr>\n",
       "    <tr>\n",
       "      <th>mean</th>\n",
       "      <td>3707.228270</td>\n",
       "      <td>0.992146</td>\n",
       "      <td>8.292362</td>\n",
       "      <td>69.826776</td>\n",
       "      <td>601.068481</td>\n",
       "      <td>358.858648</td>\n",
       "      <td>754.531168</td>\n",
       "      <td>454.379280</td>\n",
       "    </tr>\n",
       "    <tr>\n",
       "      <th>std</th>\n",
       "      <td>536.255353</td>\n",
       "      <td>0.016659</td>\n",
       "      <td>4.421711</td>\n",
       "      <td>30.309010</td>\n",
       "      <td>231.348603</td>\n",
       "      <td>9.695461</td>\n",
       "      <td>260.429832</td>\n",
       "      <td>45.490185</td>\n",
       "    </tr>\n",
       "    <tr>\n",
       "      <th>min</th>\n",
       "      <td>2540.000000</td>\n",
       "      <td>0.860681</td>\n",
       "      <td>0.000000</td>\n",
       "      <td>17.837465</td>\n",
       "      <td>30.000000</td>\n",
       "      <td>326.000000</td>\n",
       "      <td>273.000000</td>\n",
       "      <td>385.000000</td>\n",
       "    </tr>\n",
       "    <tr>\n",
       "      <th>25%</th>\n",
       "      <td>3177.500000</td>\n",
       "      <td>0.993516</td>\n",
       "      <td>3.000000</td>\n",
       "      <td>40.354517</td>\n",
       "      <td>368.000000</td>\n",
       "      <td>353.000000</td>\n",
       "      <td>471.000000</td>\n",
       "      <td>415.000000</td>\n",
       "    </tr>\n",
       "    <tr>\n",
       "      <th>50%</th>\n",
       "      <td>3928.000000</td>\n",
       "      <td>0.998526</td>\n",
       "      <td>9.000000</td>\n",
       "      <td>64.341079</td>\n",
       "      <td>697.000000</td>\n",
       "      <td>358.000000</td>\n",
       "      <td>776.000000</td>\n",
       "      <td>443.000000</td>\n",
       "    </tr>\n",
       "    <tr>\n",
       "      <th>75%</th>\n",
       "      <td>4111.500000</td>\n",
       "      <td>0.999539</td>\n",
       "      <td>12.000000</td>\n",
       "      <td>100.178534</td>\n",
       "      <td>779.000000</td>\n",
       "      <td>365.000000</td>\n",
       "      <td>934.000000</td>\n",
       "      <td>487.500000</td>\n",
       "    </tr>\n",
       "    <tr>\n",
       "      <th>max</th>\n",
       "      <td>4475.000000</td>\n",
       "      <td>0.999984</td>\n",
       "      <td>15.000000</td>\n",
       "      <td>131.308943</td>\n",
       "      <td>1065.000000</td>\n",
       "      <td>393.000000</td>\n",
       "      <td>1280.000000</td>\n",
       "      <td>635.000000</td>\n",
       "    </tr>\n",
       "  </tbody>\n",
       "</table>\n",
       "</div>"
      ],
      "text/plain": [
       "         det_frame  detection_confidence  lidar_segment  lidar_distance  \\\n",
       "count  1139.000000           1139.000000    1139.000000     1139.000000   \n",
       "mean   3707.228270              0.992146       8.292362       69.826776   \n",
       "std     536.255353              0.016659       4.421711       30.309010   \n",
       "min    2540.000000              0.860681       0.000000       17.837465   \n",
       "25%    3177.500000              0.993516       3.000000       40.354517   \n",
       "50%    3928.000000              0.998526       9.000000       64.341079   \n",
       "75%    4111.500000              0.999539      12.000000      100.178534   \n",
       "max    4475.000000              0.999984      15.000000      131.308943   \n",
       "\n",
       "                x1           y1           x2           y2  \n",
       "count  1139.000000  1139.000000  1139.000000  1139.000000  \n",
       "mean    601.068481   358.858648   754.531168   454.379280  \n",
       "std     231.348603     9.695461   260.429832    45.490185  \n",
       "min      30.000000   326.000000   273.000000   385.000000  \n",
       "25%     368.000000   353.000000   471.000000   415.000000  \n",
       "50%     697.000000   358.000000   776.000000   443.000000  \n",
       "75%     779.000000   365.000000   934.000000   487.500000  \n",
       "max    1065.000000   393.000000  1280.000000   635.000000  "
      ]
     },
     "execution_count": 6,
     "metadata": {},
     "output_type": "execute_result"
    }
   ],
   "source": [
    "cols = ['det_frame', 'detection_confidence', 'lidar_segment',\n",
    "       'lidar_distance', 'x1', 'y1', 'x2', 'y2']\n",
    "\n",
    "df[cols].describe()"
   ]
  },
  {
   "cell_type": "code",
   "execution_count": 7,
   "metadata": {},
   "outputs": [
    {
     "data": {
      "image/png": "[encoded data removed]",
      "text/plain": [
       "<Figure size 432x288 with 1 Axes>"
      ]
     },
     "metadata": {
      "needs_background": "light"
     },
     "output_type": "display_data"
    }
   ],
   "source": [
    "ax = df.lidar_segment.hist(bins=16)\n",
    "ax.set_title('Number of lidar readings per segment number')\n",
    "ax.set_xlabel('Segment Number')\n",
    "_ = ax.set_ylabel('Number of readings per segment')"
   ]
  },
  {
   "cell_type": "code",
   "execution_count": 8,
   "metadata": {},
   "outputs": [],
   "source": [
    "from matplotlib import pyplot as plt\n",
    "import seaborn as sns"
   ]
  },
  {
   "cell_type": "code",
   "execution_count": null,
   "metadata": {},
   "outputs": [],
   "source": []
  },
  {
   "cell_type": "code",
   "execution_count": 9,
   "metadata": {
    "scrolled": false
   },
   "outputs": [
    {
     "data": {
      "image/png": "[encoded data removed]",
      "text/plain": [
       "<Figure size 432x432 with 3 Axes>"
      ]
     },
     "metadata": {
      "needs_background": "light"
     },
     "output_type": "display_data"
    }
   ],
   "source": [
    "g = sns.jointplot(\"lidar_segment\", \"lidar_distance\", data=df)"
   ]
  },
  {
   "cell_type": "code",
   "execution_count": null,
   "metadata": {},
   "outputs": [],
   "source": []
  }
 ],
 "metadata": {
  "kernelspec": {
   "display_name": "Python 3",
   "language": "python",
   "name": "python3"
  },
  "language_info": {
   "codemirror_mode": {
    "name": "ipython",
    "version": 3
   },
   "file_extension": ".py",
   "mimetype": "text/x-python",
   "name": "python",
   "nbconvert_exporter": "python",
   "pygments_lexer": "ipython3",
   "version": "3.6.9"
  }
 },
 "nbformat": 4,
 "nbformat_minor": 4
}
